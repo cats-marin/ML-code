{
 "cells": [
  {
   "cell_type": "code",
   "execution_count": 1,
   "metadata": {
    "_cell_guid": "b1076dfc-b9ad-4769-8c92-a6c4dae69d19",
    "_uuid": "8f2839f25d086af736a60e9eeb907d3b93b6e0e5",
    "execution": {
     "iopub.execute_input": "2025-06-07T23:20:27.504228Z",
     "iopub.status.busy": "2025-06-07T23:20:27.503955Z",
     "iopub.status.idle": "2025-06-07T23:20:36.445201Z",
     "shell.execute_reply": "2025-06-07T23:20:36.444641Z",
     "shell.execute_reply.started": "2025-06-07T23:20:27.504207Z"
    },
    "trusted": true
   },
   "outputs": [],
   "source": [
    "import torch\n",
    "import triton\n",
    "import triton.language as tl\n",
    "\n",
    "from typing import Tuple"
   ]
  },
  {
   "cell_type": "code",
   "execution_count": 2,
   "metadata": {
    "execution": {
     "iopub.execute_input": "2025-06-07T23:20:36.446530Z",
     "iopub.status.busy": "2025-06-07T23:20:36.446186Z",
     "iopub.status.idle": "2025-06-07T23:20:36.450334Z",
     "shell.execute_reply": "2025-06-07T23:20:36.449590Z",
     "shell.execute_reply.started": "2025-06-07T23:20:36.446500Z"
    },
    "trusted": true
   },
   "outputs": [],
   "source": [
    "def _pick_block_d(head_dim: int) -> int:\n",
    "    for block_d in (128, 64, 32):\n",
    "        if head_dim >= block_d:\n",
    "            return block_d\n",
    "    return 16"
   ]
  },
  {
   "cell_type": "code",
   "execution_count": 3,
   "metadata": {
    "execution": {
     "iopub.execute_input": "2025-06-07T23:20:40.844149Z",
     "iopub.status.busy": "2025-06-07T23:20:40.843573Z",
     "iopub.status.idle": "2025-06-07T23:20:40.853568Z",
     "shell.execute_reply": "2025-06-07T23:20:40.852839Z",
     "shell.execute_reply.started": "2025-06-07T23:20:40.844125Z"
    },
    "trusted": true
   },
   "outputs": [],
   "source": [
    "@triton.jit\n",
    "def _rope_fused_kernel(\n",
    "    x_ptr, cos_ptr, sin_ptr, out_ptr,\n",
    "    STRIDE_ROW: tl.constexpr,\n",
    "    HEAD_DIM: tl.constexpr,\n",
    "    ROPE_DIM: tl.constexpr,\n",
    "    ROPE_OFFSET: tl.constexpr,\n",
    "    BLOCK_D: tl.constexpr,\n",
    "):\n",
    "    pid_m = tl.program_id(axis=0)\n",
    "    pid_d = tl.program_id(axis=1)\n",
    "\n",
    "    offs_d = pid_d * BLOCK_D + tl.arange(0, BLOCK_D)\n",
    "    \n",
    "    offs_rope = offs_d - ROPE_OFFSET\n",
    "    use_rope = offs_rope >= 0\n",
    "\n",
    "    cos = tl.load(cos_ptr + tl.where(use_rope, offs_rope, 0),mask=use_rope, other=1.0)\n",
    "    sin = tl.load(sin_ptr + tl.where(use_rope, offs_rope, 0),mask=use_rope, other=0.0)\n",
    "\n",
    "    offs = pid_m * STRIDE_ROW + offs_d\n",
    "    is_in_bounds = offs_d < HEAD_DIM\n",
    "\n",
    "    x = tl.load(x_ptr + offs, mask=is_in_bounds)\n",
    "\n",
    "    half_rope_dim = tl.constexpr(ROPE_DIM // 2)\n",
    "    is_first_half = offs_rope < half_rope_dim\n",
    "    \n",
    "    rope_partner = tl.load(x_ptr + offs + tl.where(is_first_half, half_rope_dim, -half_rope_dim), mask=use_rope, other=0.0)\n",
    "    out = tl.where(use_rope, x * cos + tl.where(is_first_half, -1.0,  1.0) * rope_partner * sin, x)\n",
    "\n",
    "    tl.store(out_ptr + offs, out, mask=is_in_bounds)"
   ]
  },
  {
   "cell_type": "code",
   "execution_count": 4,
   "metadata": {
    "execution": {
     "iopub.execute_input": "2025-06-07T23:20:42.272415Z",
     "iopub.status.busy": "2025-06-07T23:20:42.271750Z",
     "iopub.status.idle": "2025-06-07T23:20:42.278384Z",
     "shell.execute_reply": "2025-06-07T23:20:42.277812Z",
     "shell.execute_reply.started": "2025-06-07T23:20:42.272390Z"
    },
    "trusted": true
   },
   "outputs": [],
   "source": [
    "def apply_rotary_pos_emb_triton(\n",
    "    x: torch.Tensor,\n",
    "    cos_sin: Tuple[torch.Tensor, torch.Tensor],\n",
    "    *,\n",
    "    block_d: int | None = None,\n",
    ") -> torch.Tensor:\n",
    "    if x.device.type != \"cuda\":\n",
    "        raise RuntimeError(\"Triton kernel requires CUDA tensor\")\n",
    "    if x.dtype not in (torch.float16, torch.bfloat16, torch.float32):\n",
    "        raise TypeError(\"x must be fp16, bf16, or fp32\")\n",
    "\n",
    "    cos, sin = cos_sin\n",
    "\n",
    "    head_dim = x.size(-1)\n",
    "    rope_dim = cos.size(-1)\n",
    "\n",
    "    if rope_dim % 2:\n",
    "        raise ValueError(\"rope_dim must be even\")\n",
    "    if rope_dim > head_dim:\n",
    "        raise ValueError(\"rope_dim should be less than or equal to head_dim\")\n",
    "\n",
    "    x_flat = x.contiguous().view(-1, head_dim)\n",
    "    out = torch.empty_like(x_flat)\n",
    "\n",
    "    block_d = block_d or _pick_block_d(head_dim)\n",
    "    if block_d & (block_d - 1):\n",
    "        raise ValueError(\"block_d should be a power of two\")\n",
    "    if block_d > 128:\n",
    "        raise ValueError(\"block_d should be less than or equal to 128\")\n",
    "\n",
    "    num_rows = x_flat.shape[0]\n",
    "    num_chunks = (head_dim + block_d - 1) // block_d\n",
    "    \n",
    "    _rope_fused_kernel[(num_rows, num_chunks)](\n",
    "        x_flat, cos, sin, out,\n",
    "        head_dim,\n",
    "        head_dim,\n",
    "        rope_dim,\n",
    "        head_dim - rope_dim,\n",
    "        BLOCK_D=block_d,\n",
    "        num_warps=1,\n",
    "    )\n",
    "\n",
    "    return out.view_as(x)"
   ]
  },
  {
   "cell_type": "code",
   "execution_count": 5,
   "metadata": {
    "execution": {
     "iopub.execute_input": "2025-06-07T23:20:43.463770Z",
     "iopub.status.busy": "2025-06-07T23:20:43.463091Z",
     "iopub.status.idle": "2025-06-07T23:20:43.469091Z",
     "shell.execute_reply": "2025-06-07T23:20:43.468479Z",
     "shell.execute_reply.started": "2025-06-07T23:20:43.463748Z"
    },
    "trusted": true
   },
   "outputs": [],
   "source": [
    "def apply_rotary_pos_emb(\n",
    "    x: torch.Tensor, cos_sin: tuple[torch.Tensor, torch.Tensor]\n",
    ") -> tuple[torch.Tensor, torch.Tensor]:\n",
    "    cos, sin = cos_sin\n",
    "\n",
    "    head_dim = x.size(-1)\n",
    "    rope_dim = cos.size(-1)\n",
    "\n",
    "    if head_dim == rope_dim:\n",
    "        x = (x * cos) + (_rotate_half(x) * sin)\n",
    "    elif rope_dim < head_dim:\n",
    "        x_nope, x_rope = x.split((head_dim - rope_dim, rope_dim), dim=-1)\n",
    "        x_rope = (x_rope * cos) + (_rotate_half(x_rope) * sin)\n",
    "        x = torch.cat([x_nope, x_rope], dim=-1)\n",
    "    else:\n",
    "        raise ValueError(\"rope_dim should be less than head_dim\")\n",
    "\n",
    "    return x\n",
    "\n",
    "def _rotate_half(x: torch.Tensor) -> torch.Tensor:\n",
    "    x1, x2 = torch.chunk(x, 2, dim=-1)\n",
    "    return torch.cat((-x2, x1), dim=-1)"
   ]
  },
  {
   "cell_type": "code",
   "execution_count": 9,
   "metadata": {
    "execution": {
     "iopub.execute_input": "2025-06-07T23:20:58.092425Z",
     "iopub.status.busy": "2025-06-07T23:20:58.091547Z",
     "iopub.status.idle": "2025-06-07T23:20:58.150772Z",
     "shell.execute_reply": "2025-06-07T23:20:58.150189Z",
     "shell.execute_reply.started": "2025-06-07T23:20:58.092387Z"
    },
    "trusted": true
   },
   "outputs": [
    {
     "name": "stdout",
     "output_type": "stream",
     "text": [
      "ref time: 3.528991937637329 ms\n",
      "triton time: 0.9875839948654175 ms\n",
      "max|diff| = 9.5367431640625e-07\n"
     ]
    }
   ],
   "source": [
    "if __name__ == \"__main__\":\n",
    "    torch.manual_seed(42)\n",
    "    batch_size = 32\n",
    "    seq_len = 1024\n",
    "    num_heads = 8\n",
    "    head_dim = 64\n",
    "    rope_dim = 48\n",
    "\n",
    "    x = torch.randn(batch_size, seq_len, num_heads, head_dim, device=\"cuda\", dtype=torch.float32)\n",
    "    cos = torch.randn(rope_dim, device=\"cuda\", dtype=torch.float32)\n",
    "    sin = torch.randn_like(cos)\n",
    "\n",
    "    for _ in range(10):\n",
    "        _ = apply_rotary_pos_emb(x, (cos, sin))\n",
    "        _ = apply_rotary_pos_emb_triton(x, (cos, sin))\n",
    "    torch.cuda.synchronize()\n",
    "\n",
    "    start_ref = torch.cuda.Event(enable_timing=True)\n",
    "    end_ref = torch.cuda.Event(enable_timing=True)\n",
    "    start_ref.record()\n",
    "    ref = apply_rotary_pos_emb(x, (cos, sin))\n",
    "    end_ref.record()\n",
    "    torch.cuda.synchronize()\n",
    "    print(\"ref time:\", start_ref.elapsed_time(end_ref), \"ms\")\n",
    "\n",
    "    start_tri = torch.cuda.Event(enable_timing=True)\n",
    "    end_tri = torch.cuda.Event(enable_timing=True)\n",
    "    start_tri.record()\n",
    "    tri = apply_rotary_pos_emb_triton(x, (cos, sin))\n",
    "    end_tri.record()\n",
    "    torch.cuda.synchronize()\n",
    "    print(\"triton time:\", start_tri.elapsed_time(end_tri), \"ms\")\n",
    "\n",
    "    diff = (ref - tri).abs().max()\n",
    "    print(\"max|diff| =\", diff.item())"
   ]
  },
  {
   "cell_type": "code",
   "execution_count": 7,
   "metadata": {
    "execution": {
     "iopub.execute_input": "2025-06-07T20:33:08.255709Z",
     "iopub.status.busy": "2025-06-07T20:33:08.255433Z",
     "iopub.status.idle": "2025-06-07T20:33:08.313658Z",
     "shell.execute_reply": "2025-06-07T20:33:08.313116Z",
     "shell.execute_reply.started": "2025-06-07T20:33:08.255688Z"
    },
    "trusted": true
   },
   "outputs": [
    {
     "name": "stdout",
     "output_type": "stream",
     "text": [
      "ref time: 3.5327999591827393 ms\n",
      "triton time: 0.9911999702453613 ms\n",
      "max|diff| = 9.5367431640625e-07\n"
     ]
    }
   ],
   "source": [
    "if __name__ == \"__main__\":\n",
    "    torch.manual_seed(42)\n",
    "    batch_size = 32\n",
    "    seq_len = 1024\n",
    "    num_heads = 8\n",
    "    head_dim = 64\n",
    "    rope_dim = 48\n",
    "\n",
    "    x = torch.randn(batch_size, seq_len, num_heads, head_dim, device=\"cuda\", dtype=torch.float32)\n",
    "    cos = torch.randn(rope_dim, device=\"cuda\", dtype=torch.float32)\n",
    "    sin = torch.randn_like(cos)\n",
    "\n",
    "    for _ in range(10):\n",
    "        _ = apply_rotary_pos_emb(x, (cos, sin))\n",
    "        _ = apply_rotary_pos_emb_triton(x, (cos, sin))\n",
    "    torch.cuda.synchronize()\n",
    "\n",
    "    start_ref = torch.cuda.Event(enable_timing=True)\n",
    "    end_ref = torch.cuda.Event(enable_timing=True)\n",
    "    start_ref.record()\n",
    "    ref = apply_rotary_pos_emb(x, (cos, sin))\n",
    "    end_ref.record()\n",
    "    torch.cuda.synchronize()\n",
    "    print(\"ref time:\", start_ref.elapsed_time(end_ref), \"ms\")\n",
    "\n",
    "    start_tri = torch.cuda.Event(enable_timing=True)\n",
    "    end_tri = torch.cuda.Event(enable_timing=True)\n",
    "    start_tri.record()\n",
    "    tri = apply_rotary_pos_emb_triton(x, (cos, sin))\n",
    "    end_tri.record()\n",
    "    torch.cuda.synchronize()\n",
    "    print(\"triton time:\", start_tri.elapsed_time(end_tri), \"ms\")\n",
    "\n",
    "    diff = (ref - tri).abs().max()\n",
    "    print(\"max|diff| =\", diff.item())"
   ]
  },
  {
   "cell_type": "code",
   "execution_count": null,
   "metadata": {
    "trusted": true
   },
   "outputs": [],
   "source": []
  }
 ],
 "metadata": {
  "kernelspec": {
   "display_name": "Python 3",
   "language": "python",
   "name": "python3"
  },
  "language_info": {
   "codemirror_mode": {
    "name": "ipython",
    "version": 3
   },
   "file_extension": ".py",
   "mimetype": "text/x-python",
   "name": "python",
   "nbconvert_exporter": "python",
   "pygments_lexer": "ipython3",
   "version": "3.11.11"
  }
 },
 "nbformat": 4,
 "nbformat_minor": 4
}
